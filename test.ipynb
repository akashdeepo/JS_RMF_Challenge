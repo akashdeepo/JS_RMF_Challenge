{
 "cells": [
  {
   "cell_type": "code",
   "execution_count": 1,
   "metadata": {},
   "outputs": [
    {
     "name": "stdout",
     "output_type": "stream",
     "text": [
      "Python version: 3.10.4 (tags/v3.10.4:9d38120, Mar 23 2022, 23:13:41) [MSC v.1929 64 bit (AMD64)]\n",
      "Pandas version: 1.5.3\n"
     ]
    }
   ],
   "source": [
    "# Import necessary libraries\n",
    "import pandas as pd\n",
    "import os\n",
    "\n",
    "# Display installed versions (optional for debugging)\n",
    "import sys\n",
    "print(f\"Python version: {sys.version}\")\n",
    "print(f\"Pandas version: {pd.__version__}\")\n"
   ]
  },
  {
   "cell_type": "code",
   "execution_count": 2,
   "metadata": {},
   "outputs": [],
   "source": [
    "import pandas as pd\n",
    "import numpy as np\n",
    "import os\n",
    "from glob import glob\n",
    "import pyarrow.parquet as pq\n",
    "import matplotlib.pyplot as plt\n",
    "import seaborn as sns\n",
    "\n",
    "# For handling large datasets and data processing\n",
    "from sklearn.model_selection import train_test_split\n",
    "from sklearn.preprocessing import StandardScaler\n",
    "from sklearn.ensemble import RandomForestRegressor\n",
    "from sklearn.metrics import r2_score\n"
   ]
  },
  {
   "cell_type": "code",
   "execution_count": 4,
   "metadata": {},
   "outputs": [
    {
     "name": "stdout",
     "output_type": "stream",
     "text": [
      "Partition 0 does not exist.\n",
      "Partition 1 does not exist.\n",
      "Partition 2 does not exist.\n",
      "Partition 3 does not exist.\n",
      "Partition 4 does not exist.\n",
      "Partition 5 does not exist.\n",
      "Partition 6 does not exist.\n",
      "Partition 7 does not exist.\n",
      "Partition 8 does not exist.\n",
      "Partition 9 does not exist.\n"
     ]
    }
   ],
   "source": [
    "# Define the path to your data (adjust based on your setup)\n",
    "train_path = \"jane-street-real-time-market-data-forecasting\\train.parquet\"  # Add the folder path where the 'partition_id' folders are located\n",
    "\n",
    "# Get all partition files\n",
    "train_files = glob(os.path.join(train_path, 'partition_id=*/*.parquet'))\n",
    "\n",
    "# Verify that files are detected\n",
    "print(train_files)\n",
    "\n",
    "# Load a sample partition (first one)\n",
    "if len(train_files) > 0:\n",
    "    sample_partition = pd.read_parquet(train_files[0])\n",
    "    print(sample_partition.head())\n",
    "else:\n",
    "    print(\"No files found. Please check the directory structure.\")\n"
   ]
  }
 ],
 "metadata": {
  "kernelspec": {
   "display_name": "Python 3",
   "language": "python",
   "name": "python3"
  },
  "language_info": {
   "codemirror_mode": {
    "name": "ipython",
    "version": 3
   },
   "file_extension": ".py",
   "mimetype": "text/x-python",
   "name": "python",
   "nbconvert_exporter": "python",
   "pygments_lexer": "ipython3",
   "version": "3.10.4"
  }
 },
 "nbformat": 4,
 "nbformat_minor": 2
}
